{
 "cells": [
  {
   "cell_type": "code",
   "execution_count": 1,
   "metadata": {},
   "outputs": [],
   "source": [
    "import tensorflow as tf\n",
    "import ProlesaModule"
   ]
  },
  {
   "cell_type": "code",
   "execution_count": 2,
   "metadata": {},
   "outputs": [
    {
     "name": "stdout",
     "output_type": "stream",
     "text": [
      "Model: \"prolesa_net\"\n",
      "_________________________________________________________________\n",
      "Layer (type)                 Output Shape              Param #   \n",
      "=================================================================\n",
      "encoder_block (EncoderBlock) multiple                  10692     \n",
      "_________________________________________________________________\n",
      "encoder_block_1 (EncoderBloc multiple                  67912     \n",
      "_________________________________________________________________\n",
      "encoder_block_2 (EncoderBloc multiple                  711312    \n",
      "_________________________________________________________________\n",
      "encoder_block_3 (EncoderBloc multiple                  2839840   \n",
      "_________________________________________________________________\n",
      "bottleneck2 (Bottleneck2)    multiple                  4979840   \n",
      "_________________________________________________________________\n",
      "decoder_block (DecoderBlock) multiple                  5908737   \n",
      "_________________________________________________________________\n",
      "decoder_block_1 (DecoderBloc multiple                  1823873   \n",
      "_________________________________________________________________\n",
      "decoder_block_2 (DecoderBloc multiple                  161217    \n",
      "_________________________________________________________________\n",
      "decoder_block_3 (DecoderBloc multiple                  40673     \n",
      "_________________________________________________________________\n",
      "classifier (Classifier)      multiple                  33        \n",
      "=================================================================\n",
      "Total params: 16,544,129\n",
      "Trainable params: 16,537,217\n",
      "Non-trainable params: 6,912\n",
      "_________________________________________________________________\n"
     ]
    }
   ],
   "source": [
    "msqa = ProlesaModule.ProLesA_Net.ProlesaNet()\n",
    "msqa.build(input_shape = [1,24, 192,192,3])\n",
    "msqa.summary()"
   ]
  },
  {
   "cell_type": "code",
   "execution_count": null,
   "metadata": {},
   "outputs": [],
   "source": []
  }
 ],
 "metadata": {
  "kernelspec": {
   "display_name": "ml_radiomics",
   "language": "python",
   "name": "python3"
  },
  "language_info": {
   "codemirror_mode": {
    "name": "ipython",
    "version": 3
   },
   "file_extension": ".py",
   "mimetype": "text/x-python",
   "name": "python",
   "nbconvert_exporter": "python",
   "pygments_lexer": "ipython3",
   "version": "3.6.13"
  }
 },
 "nbformat": 4,
 "nbformat_minor": 2
}
